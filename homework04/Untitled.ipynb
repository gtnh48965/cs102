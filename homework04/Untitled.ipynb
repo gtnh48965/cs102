{
 "cells": [
  {
   "cell_type": "code",
   "execution_count": 11,
   "metadata": {},
   "outputs": [
    {
     "name": "stdout",
     "output_type": "stream",
     "text": [
      "Parsed 2500 posts\n"
     ]
    }
   ],
   "source": [
    "\n",
    "def get_model(\n",
    "    domain: str='',\n",
    "    num_topics: int=5,\n",
    "    num_words: int=8,\n",
    "    passes: int=5,\n",
    "    max_requests: int=4):\n",
    "    offset = 0\n",
    "    texts = []\n",
    "    end = False\n",
    "    n = 0\n",
    "    while True:\n",
    "        queries = get_wall(domain=domain, offset=offset).json()['response']\n",
    "        for q in queries:\n",
    "            posts = q['items']\n",
    "            if len(posts):\n",
    "                for p in posts:\n",
    "                    texts.append(p['text'])\n",
    "                    n += 1\n",
    "            else:\n",
    "                end = True\n",
    "                break\n",
    "        if end:\n",
    "            break\n",
    "        offset += 2500\n",
    "        # print(offset)\n",
    "        sleep(0.35)\n",
    "        if offset >= max_requests * 2500:\n",
    "            break\n",
    "    print(f'Parsed {n} posts')\n",
    "    \n",
    "get_model('otchisleno')"
   ]
  },
  {
   "cell_type": "code",
   "execution_count": null,
   "metadata": {},
   "outputs": [],
   "source": []
  },
  {
   "cell_type": "code",
   "execution_count": null,
   "metadata": {},
   "outputs": [],
   "source": []
  }
 ],
 "metadata": {
  "kernelspec": {
   "display_name": "Python 3",
   "language": "python",
   "name": "python3"
  },
  "language_info": {
   "codemirror_mode": {
    "name": "ipython",
    "version": 3
   },
   "file_extension": ".py",
   "mimetype": "text/x-python",
   "name": "python",
   "nbconvert_exporter": "python",
   "pygments_lexer": "ipython3",
   "version": "3.7.3"
  },
  "pycharm": {
   "stem_cell": {
    "cell_type": "raw",
    "metadata": {
     "collapsed": false
    },
    "source": []
   }
  }
 },
 "nbformat": 4,
 "nbformat_minor": 2
}
